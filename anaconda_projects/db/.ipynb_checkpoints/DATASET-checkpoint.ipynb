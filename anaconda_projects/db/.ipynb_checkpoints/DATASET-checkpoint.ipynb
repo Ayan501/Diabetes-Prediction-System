{
 "cells": [
  {
   "cell_type": "code",
   "execution_count": 1,
   "id": "22d8e3f6-5b7e-41d4-b1b3-53fcdd02d5da",
   "metadata": {},
   "outputs": [],
   "source": [
    "import pandas as pd\n",
    "import numpy as np\n",
    "from sklearn.impute import SimpleImputer\n",
    "from sklearn.model_selection import train_test_split\n",
    "from sklearn.preprocessing import StandardScaler\n",
    "from sklearn.pipeline import Pipeline\n",
    "from sklearn.linear_model import LogisticRegression\n",
    "\n",
    "\n",
    "# step-1 : load data\n",
    "url = \"https://raw.githubusercontent.com/plotly/datasets/master/diabetes.csv\"\n",
    "df = pd.read_csv(url)\n",
    "\n",
    "# step-2: preprocessing the data\n",
    "\n",
    "cols_with_zeros = ['Glucose','BloodPressure','SkinThickness','Insulin','BMI']\n",
    "df[cols_with_zeros] = df[cols_with_zeros].replace(0,np.nan)\n",
    "\n",
    "\n",
    "imputer = SimpleImputer(strategy = 'mean')\n",
    "\n",
    "df[cols_with_zeros] = imputer.fit_transform(df[cols_with_zeros])\n",
    "\n",
    "# step-3 : Model Training Phase\n",
    "\n",
    "\n",
    "\n",
    "X = df[['Pregnancies','Glucose','BloodPressure','SkinThickness','Insulin','BMI','DiabetesPedigreeFunction','Age',]]\n",
    "y = df['Outcome']\n",
    "\n",
    "X_train, X_test, y_train, y_test = train_test_split(X,y,test_size = 0.2,random_state = 42)\n",
    "\n",
    "pipeline = Pipeline([\n",
    "    (\"scaling\",StandardScaler()),\n",
    "    ('model',LogisticRegression())\n",
    "])\n",
    "pipeline.fit(X_train,y_train)\n",
    "\n",
    "y_pred = pipeline.predict(X_test)\n",
    "\n",
    "\n",
    "from sklearn.metrics import accuracy_score, confusion_matrix, classification_report\n",
    "print(\"Accuracy of model\" , accuracy_score(y_test,y_pred))\n",
    "print(\"Configuration of model\" , confusion_matrix(y_test,y_pred))\n",
    "print(\"Classification report of model\" , classification_report(y_test,y_pred))\n"
   ]
  },
  {
   "cell_type": "code",
   "execution_count": null,
   "id": "bb63e101-a22c-4d03-ae1f-f9622458d6d9",
   "metadata": {},
   "outputs": [],
   "source": []
  }
 ],
 "metadata": {
  "kernelspec": {
   "display_name": "Python [conda env:base] *",
   "language": "python",
   "name": "conda-base-py"
  },
  "language_info": {
   "codemirror_mode": {
    "name": "ipython",
    "version": 3
   },
   "file_extension": ".py",
   "mimetype": "text/x-python",
   "name": "python",
   "nbconvert_exporter": "python",
   "pygments_lexer": "ipython3",
   "version": "3.12.7"
  }
 },
 "nbformat": 4,
 "nbformat_minor": 5
}
